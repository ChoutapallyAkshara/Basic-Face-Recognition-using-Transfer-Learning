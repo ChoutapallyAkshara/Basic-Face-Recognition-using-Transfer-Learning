{
 "cells": [
  {
   "cell_type": "code",
   "execution_count": 1,
   "id": "70f140c5",
   "metadata": {
    "_cell_guid": "b1076dfc-b9ad-4769-8c92-a6c4dae69d19",
    "_uuid": "8f2839f25d086af736a60e9eeb907d3b93b6e0e5",
    "execution": {
     "iopub.execute_input": "2024-06-03T19:27:34.381991Z",
     "iopub.status.busy": "2024-06-03T19:27:34.381175Z",
     "iopub.status.idle": "2024-06-03T19:27:35.235284Z",
     "shell.execute_reply": "2024-06-03T19:27:35.234243Z"
    },
    "papermill": {
     "duration": 0.862696,
     "end_time": "2024-06-03T19:27:35.238910",
     "exception": false,
     "start_time": "2024-06-03T19:27:34.376214",
     "status": "completed"
    },
    "tags": []
   },
   "outputs": [
    {
     "name": "stdout",
     "output_type": "stream",
     "text": [
      "/kaggle/input/face-images1/Final Testing Images/face14/1face14.jpg\n",
      "/kaggle/input/face-images1/Final Testing Images/face14/2face14.jpg\n",
      "/kaggle/input/face-images1/Final Testing Images/face14/3face14.jpg\n",
      "/kaggle/input/face-images1/Final Testing Images/face14/4face14.jpg\n",
      "/kaggle/input/face-images1/Final Testing Images/face4/2face4.jpg\n",
      "/kaggle/input/face-images1/Final Testing Images/face4/1face4.jpg\n",
      "/kaggle/input/face-images1/Final Testing Images/face4/3face4.jpg\n",
      "/kaggle/input/face-images1/Final Testing Images/face4/4face4.jpg\n",
      "/kaggle/input/face-images1/Final Testing Images/face15/1face15.jpg\n",
      "/kaggle/input/face-images1/Final Testing Images/face15/4face15.jpg\n",
      "/kaggle/input/face-images1/Final Testing Images/face15/3face15.jpg\n",
      "/kaggle/input/face-images1/Final Testing Images/face15/2face15.jpg\n",
      "/kaggle/input/face-images1/Final Testing Images/face16/2face16.jpg\n",
      "/kaggle/input/face-images1/Final Testing Images/face16/3face16.jpg\n",
      "/kaggle/input/face-images1/Final Testing Images/face16/4face16.jpg\n",
      "/kaggle/input/face-images1/Final Testing Images/face16/1face16.jpg\n",
      "/kaggle/input/face-images1/Final Testing Images/face8/1face8.jpg\n",
      "/kaggle/input/face-images1/Final Testing Images/face8/4face8.jpg\n",
      "/kaggle/input/face-images1/Final Testing Images/face8/3face8.jpg\n",
      "/kaggle/input/face-images1/Final Testing Images/face8/2face8.jpg\n",
      "/kaggle/input/face-images1/Final Testing Images/face6/1face6.jpg\n",
      "/kaggle/input/face-images1/Final Testing Images/face6/2face6.jpg\n",
      "/kaggle/input/face-images1/Final Testing Images/face6/3face6.jpg\n",
      "/kaggle/input/face-images1/Final Testing Images/face6/4face6.jpg\n",
      "/kaggle/input/face-images1/Final Testing Images/face6/face1/2face1.jpg\n",
      "/kaggle/input/face-images1/Final Testing Images/face6/face1/4face1.jpg\n",
      "/kaggle/input/face-images1/Final Testing Images/face6/face1/3face1.jpg\n",
      "/kaggle/input/face-images1/Final Testing Images/face6/face1/1face1.jpg\n",
      "/kaggle/input/face-images1/Final Testing Images/face10/3face10.jpg\n",
      "/kaggle/input/face-images1/Final Testing Images/face10/1face10.jpg\n",
      "/kaggle/input/face-images1/Final Testing Images/face10/4face10.jpg\n",
      "/kaggle/input/face-images1/Final Testing Images/face10/2face10.jpg\n",
      "/kaggle/input/face-images1/Final Testing Images/face12/2face12.jpg\n",
      "/kaggle/input/face-images1/Final Testing Images/face12/3face12.jpg\n",
      "/kaggle/input/face-images1/Final Testing Images/face12/4face12.jpg\n",
      "/kaggle/input/face-images1/Final Testing Images/face12/1face12.jpg\n",
      "/kaggle/input/face-images1/Final Testing Images/face9/4face9.jpg\n",
      "/kaggle/input/face-images1/Final Testing Images/face9/2face9.jpg\n",
      "/kaggle/input/face-images1/Final Testing Images/face9/1face9.jpg\n",
      "/kaggle/input/face-images1/Final Testing Images/face9/3face9.jpg\n",
      "/kaggle/input/face-images1/Final Testing Images/face2/4face2.jpg\n",
      "/kaggle/input/face-images1/Final Testing Images/face2/3face2.jpg\n",
      "/kaggle/input/face-images1/Final Testing Images/face2/2face2.jpg\n",
      "/kaggle/input/face-images1/Final Testing Images/face2/1face2.jpg\n",
      "/kaggle/input/face-images1/Final Testing Images/face5/2face5.jpg\n",
      "/kaggle/input/face-images1/Final Testing Images/face5/1face5.jpg\n",
      "/kaggle/input/face-images1/Final Testing Images/face5/3face5.jpg\n",
      "/kaggle/input/face-images1/Final Testing Images/face5/4face5.jpg\n",
      "/kaggle/input/face-images1/Final Testing Images/face3/1face3.jpg\n",
      "/kaggle/input/face-images1/Final Testing Images/face3/3face3.jpg\n",
      "/kaggle/input/face-images1/Final Testing Images/face3/2face3.jpg\n",
      "/kaggle/input/face-images1/Final Testing Images/face3/4face3.jpg\n",
      "/kaggle/input/face-images1/Final Testing Images/face7/2face7.jpg\n",
      "/kaggle/input/face-images1/Final Testing Images/face7/3face7.jpg\n",
      "/kaggle/input/face-images1/Final Testing Images/face7/1face7.jpg\n",
      "/kaggle/input/face-images1/Final Testing Images/face7/4face7.jpg\n",
      "/kaggle/input/face-images1/Final Testing Images/face13/3face13.jpg\n",
      "/kaggle/input/face-images1/Final Testing Images/face13/1face13.jpg\n",
      "/kaggle/input/face-images1/Final Testing Images/face13/2face13.jpg\n",
      "/kaggle/input/face-images1/Final Testing Images/face13/4face13.jpg\n",
      "/kaggle/input/face-images1/Final Testing Images/face11/2face11.jpg\n",
      "/kaggle/input/face-images1/Final Testing Images/face11/3face11.jpg\n",
      "/kaggle/input/face-images1/Final Testing Images/face11/4face11.jpg\n",
      "/kaggle/input/face-images1/Final Testing Images/face11/1face11.jpg\n",
      "/kaggle/input/face-images1/Final Training Images/face14/image_0322_Face_1.jpg\n",
      "/kaggle/input/face-images1/Final Training Images/face14/image_0323_Face_1.jpg\n",
      "/kaggle/input/face-images1/Final Training Images/face14/image_0326_Face_1.jpg\n",
      "/kaggle/input/face-images1/Final Training Images/face14/image_0308_Face_1.jpg\n",
      "/kaggle/input/face-images1/Final Training Images/face14/image_0318_Face_1.jpg\n",
      "/kaggle/input/face-images1/Final Training Images/face14/image_0314_Face_1.jpg\n",
      "/kaggle/input/face-images1/Final Training Images/face14/image_0320_Face_1.jpg\n",
      "/kaggle/input/face-images1/Final Training Images/face14/image_0309_Face_1.jpg\n",
      "/kaggle/input/face-images1/Final Training Images/face14/image_0316_Face_1.jpg\n",
      "/kaggle/input/face-images1/Final Training Images/face14/image_0312_Face_2.jpg\n",
      "/kaggle/input/face-images1/Final Training Images/face14/image_0313_Face_1.jpg\n",
      "/kaggle/input/face-images1/Final Training Images/face14/image_0315_Face_1.jpg\n",
      "/kaggle/input/face-images1/Final Training Images/face4/image_0058_Face_1.jpg\n",
      "/kaggle/input/face-images1/Final Training Images/face4/image_0064_Face_1.jpg\n",
      "/kaggle/input/face-images1/Final Training Images/face4/image_0062_Face_2.jpg\n",
      "/kaggle/input/face-images1/Final Training Images/face4/image_0059_Face_1.jpg\n",
      "/kaggle/input/face-images1/Final Training Images/face4/image_0053_Face_1.jpg\n",
      "/kaggle/input/face-images1/Final Training Images/face4/image_0063_Face_1.jpg\n",
      "/kaggle/input/face-images1/Final Training Images/face4/image_0050_Face_1.jpg\n",
      "/kaggle/input/face-images1/Final Training Images/face4/image_0055_Face_1.jpg\n",
      "/kaggle/input/face-images1/Final Training Images/face4/image_0067_Face_1.jpg\n",
      "/kaggle/input/face-images1/Final Training Images/face4/image_0066_Face_1.jpg\n",
      "/kaggle/input/face-images1/Final Training Images/face4/image_0051_Face_1.jpg\n",
      "/kaggle/input/face-images1/Final Training Images/face4/image_0061_Face_1.jpg\n",
      "/kaggle/input/face-images1/Final Training Images/face4/image_0068_Face_1.jpg\n",
      "/kaggle/input/face-images1/Final Training Images/face4/image_0054_Face_1.jpg\n",
      "/kaggle/input/face-images1/Final Training Images/face4/image_0056_Face_1.jpg\n",
      "/kaggle/input/face-images1/Final Training Images/face4/image_0057_Face_1.jpg\n",
      "/kaggle/input/face-images1/Final Training Images/face4/image_0065_Face_1.jpg\n",
      "/kaggle/input/face-images1/Final Training Images/face15/image_0350_Face_1.jpg\n",
      "/kaggle/input/face-images1/Final Training Images/face15/image_0353_Face_1.jpg\n",
      "/kaggle/input/face-images1/Final Training Images/face15/image_0339_Face_1.jpg\n",
      "/kaggle/input/face-images1/Final Training Images/face15/image_0338_Face_1.jpg\n",
      "/kaggle/input/face-images1/Final Training Images/face15/image_0341_Face_1.jpg\n",
      "/kaggle/input/face-images1/Final Training Images/face15/image_0342_Face_1.jpg\n",
      "/kaggle/input/face-images1/Final Training Images/face15/image_0348_Face_1.jpg\n",
      "/kaggle/input/face-images1/Final Training Images/face15/image_0356_Face_2.jpg\n",
      "/kaggle/input/face-images1/Final Training Images/face15/image_0345_Face_2.jpg\n",
      "/kaggle/input/face-images1/Final Training Images/face15/image_0340_Face_1.jpg\n",
      "/kaggle/input/face-images1/Final Training Images/face15/image_0351_Face_1.jpg\n",
      "/kaggle/input/face-images1/Final Training Images/face15/image_0352_Face_1.jpg\n",
      "/kaggle/input/face-images1/Final Training Images/face15/image_0343_Face_1.jpg\n",
      "/kaggle/input/face-images1/Final Training Images/face15/image_0354_Face_1.jpg\n",
      "/kaggle/input/face-images1/Final Training Images/face15/image_0355_Face_1.jpg\n",
      "/kaggle/input/face-images1/Final Training Images/face16/image_0379_Face_1.jpg\n",
      "/kaggle/input/face-images1/Final Training Images/face16/image_0390_Face_1.jpg\n",
      "/kaggle/input/face-images1/Final Training Images/face16/image_0383_Face_1.jpg\n",
      "/kaggle/input/face-images1/Final Training Images/face16/image_0384_Face_1.jpg\n",
      "/kaggle/input/face-images1/Final Training Images/face16/image_0397_Face_1.jpg\n",
      "/kaggle/input/face-images1/Final Training Images/face16/image_0396_Face_1.jpg\n",
      "/kaggle/input/face-images1/Final Training Images/face16/image_0387_Face_1.jpg\n",
      "/kaggle/input/face-images1/Final Training Images/face16/image_0380_Face_1.jpg\n",
      "/kaggle/input/face-images1/Final Training Images/face16/image_0398_Face_1.jpg\n",
      "/kaggle/input/face-images1/Final Training Images/face16/image_0388_Face_1.jpg\n",
      "/kaggle/input/face-images1/Final Training Images/face16/image_0395_Face_1.jpg\n",
      "/kaggle/input/face-images1/Final Training Images/face16/image_0378_Face_1.jpg\n",
      "/kaggle/input/face-images1/Final Training Images/face16/image_0385_Face_1.jpg\n",
      "/kaggle/input/face-images1/Final Training Images/face16/image_0382_Face_1.jpg\n",
      "/kaggle/input/face-images1/Final Training Images/face16/image_0377_Face_1.jpg\n",
      "/kaggle/input/face-images1/Final Training Images/face16/image_0381_Face_1.jpg\n",
      "/kaggle/input/face-images1/Final Training Images/face16/image_0386_Face_2.jpg\n",
      "/kaggle/input/face-images1/Final Training Images/face8/image_0145_Face_1.jpg\n",
      "/kaggle/input/face-images1/Final Training Images/face8/image_0158_Face_1.jpg\n",
      "/kaggle/input/face-images1/Final Training Images/face8/image_0142_Face_1.jpg\n",
      "/kaggle/input/face-images1/Final Training Images/face8/image_0144_Face_1.jpg\n",
      "/kaggle/input/face-images1/Final Training Images/face8/image_0143_Face_1.jpg\n",
      "/kaggle/input/face-images1/Final Training Images/face8/image_0150_Face_1.jpg\n",
      "/kaggle/input/face-images1/Final Training Images/face8/image_0155_Face_1.jpg\n",
      "/kaggle/input/face-images1/Final Training Images/face8/image_0147_Face_1.jpg\n",
      "/kaggle/input/face-images1/Final Training Images/face8/image_0148_Face_1.jpg\n",
      "/kaggle/input/face-images1/Final Training Images/face8/image_0146_Face_1.jpg\n",
      "/kaggle/input/face-images1/Final Training Images/face8/image_0152_Face_1.jpg\n",
      "/kaggle/input/face-images1/Final Training Images/face8/image_0151_Face_1.jpg\n",
      "/kaggle/input/face-images1/Final Training Images/face8/image_0153_Face_1.jpg\n",
      "/kaggle/input/face-images1/Final Training Images/face8/image_0157_Face_1.jpg\n",
      "/kaggle/input/face-images1/Final Training Images/face6/image_0435_Face_1.jpg\n",
      "/kaggle/input/face-images1/Final Training Images/face6/image_0445_Face_1.jpg\n",
      "/kaggle/input/face-images1/Final Training Images/face6/image_0438_Face_1.jpg\n",
      "/kaggle/input/face-images1/Final Training Images/face6/image_0444_Face_1.jpg\n",
      "/kaggle/input/face-images1/Final Training Images/face6/image_0449_Face_1.jpg\n",
      "/kaggle/input/face-images1/Final Training Images/face6/image_0439_Face_1.jpg\n",
      "/kaggle/input/face-images1/Final Training Images/face6/image_0440_Face_2.jpg\n",
      "/kaggle/input/face-images1/Final Training Images/face6/image_0437_Face_1.jpg\n",
      "/kaggle/input/face-images1/Final Training Images/face6/image_0436_Face_2.jpg\n",
      "/kaggle/input/face-images1/Final Training Images/face6/image_0443_Face_1.jpg\n",
      "/kaggle/input/face-images1/Final Training Images/face6/image_0450_Face_1.jpg\n",
      "/kaggle/input/face-images1/Final Training Images/face6/image_0434_Face_1.jpg\n",
      "/kaggle/input/face-images1/Final Training Images/face6/image_0441_Face_1.jpg\n",
      "/kaggle/input/face-images1/Final Training Images/face6/image_0448_Face_1.jpg\n",
      "/kaggle/input/face-images1/Final Training Images/face6/image_0433_Face_1.jpg\n",
      "/kaggle/input/face-images1/Final Training Images/face6/image_0446_Face_2.jpg\n",
      "/kaggle/input/face-images1/Final Training Images/face10/image_0229_Face_1.jpg\n",
      "/kaggle/input/face-images1/Final Training Images/face10/image_0235_Face_1.jpg\n",
      "/kaggle/input/face-images1/Final Training Images/face10/image_0224_Face_1.jpg\n",
      "/kaggle/input/face-images1/Final Training Images/face10/image_0230_Face_1.jpg\n",
      "/kaggle/input/face-images1/Final Training Images/face10/image_0226_Face_1.jpg\n",
      "/kaggle/input/face-images1/Final Training Images/face10/image_0222_Face_2.jpg\n",
      "/kaggle/input/face-images1/Final Training Images/face10/image_0227_Face_1.jpg\n",
      "/kaggle/input/face-images1/Final Training Images/face10/image_0234_Face_1.jpg\n",
      "/kaggle/input/face-images1/Final Training Images/face10/image_0241_Face_1.jpg\n",
      "/kaggle/input/face-images1/Final Training Images/face10/image_0236_Face_1.jpg\n",
      "/kaggle/input/face-images1/Final Training Images/face10/image_0228_Face_1.jpg\n",
      "/kaggle/input/face-images1/Final Training Images/face10/image_0238_Face_1.jpg\n",
      "/kaggle/input/face-images1/Final Training Images/face10/image_0225_Face_1.jpg\n",
      "/kaggle/input/face-images1/Final Training Images/face10/image_0233_Face_1.jpg\n",
      "/kaggle/input/face-images1/Final Training Images/face10/image_0239_Face_1.jpg\n",
      "/kaggle/input/face-images1/Final Training Images/face10/image_0237_Face_1.jpg\n",
      "/kaggle/input/face-images1/Final Training Images/face10/image_0223_Face_1.jpg\n",
      "/kaggle/input/face-images1/Final Training Images/face10/image_0232_Face_1.jpg\n",
      "/kaggle/input/face-images1/Final Training Images/face10/image_0221_Face_1.jpg\n",
      "/kaggle/input/face-images1/Final Training Images/face10/image_0240_Face_2.jpg\n",
      "/kaggle/input/face-images1/Final Training Images/face12/image_0281_Face_1.jpg\n",
      "/kaggle/input/face-images1/Final Training Images/face12/image_0277_Face_1.jpg\n",
      "/kaggle/input/face-images1/Final Training Images/face12/image_0279_Face_1.jpg\n",
      "/kaggle/input/face-images1/Final Training Images/face12/image_0286_Face_1.jpg\n",
      "/kaggle/input/face-images1/Final Training Images/face12/image_0282_Face_2.jpg\n",
      "/kaggle/input/face-images1/Final Training Images/face12/image_0280_Face_1.jpg\n",
      "/kaggle/input/face-images1/Final Training Images/face12/image_0270_Face_1.jpg\n",
      "/kaggle/input/face-images1/Final Training Images/face12/image_0284_Face_1.jpg\n",
      "/kaggle/input/face-images1/Final Training Images/face12/image_0275_Face_1.jpg\n",
      "/kaggle/input/face-images1/Final Training Images/face12/image_0285_Face_1.jpg\n",
      "/kaggle/input/face-images1/Final Training Images/face12/image_0278_Face_1.jpg\n",
      "/kaggle/input/face-images1/Final Training Images/face12/image_0283_Face_2.jpg\n",
      "/kaggle/input/face-images1/Final Training Images/face12/image_0272_Face_1.jpg\n",
      "/kaggle/input/face-images1/Final Training Images/face12/image_0269_Face_1.jpg\n",
      "/kaggle/input/face-images1/Final Training Images/face9/image_0201_Face_1.jpg\n",
      "/kaggle/input/face-images1/Final Training Images/face9/image_0207_Face_1.jpg\n",
      "/kaggle/input/face-images1/Final Training Images/face9/image_0203_Face_1.jpg\n",
      "/kaggle/input/face-images1/Final Training Images/face9/image_0211_Face_1.jpg\n",
      "/kaggle/input/face-images1/Final Training Images/face9/image_0208_Face_2.jpg\n",
      "/kaggle/input/face-images1/Final Training Images/face9/image_0204_Face_1.jpg\n",
      "/kaggle/input/face-images1/Final Training Images/face9/image_0200_Face_1.jpg\n",
      "/kaggle/input/face-images1/Final Training Images/face9/image_0214_Face_1.jpg\n",
      "/kaggle/input/face-images1/Final Training Images/face9/image_0216_Face_1.jpg\n",
      "/kaggle/input/face-images1/Final Training Images/face9/image_0212_Face_1.jpg\n",
      "/kaggle/input/face-images1/Final Training Images/face9/image_0213_Face_1.jpg\n",
      "/kaggle/input/face-images1/Final Training Images/face9/image_0206_Face_2.jpg\n",
      "/kaggle/input/face-images1/Final Training Images/face9/image_0205_Face_1.jpg\n",
      "/kaggle/input/face-images1/Final Training Images/face9/image_0202_Face_1.jpg\n",
      "/kaggle/input/face-images1/Final Training Images/face9/image_0209_Face_1.jpg\n",
      "/kaggle/input/face-images1/Final Training Images/face9/image_0215_Face_1.jpg\n",
      "/kaggle/input/face-images1/Final Training Images/face2/image_0025_Face_1.jpg\n",
      "/kaggle/input/face-images1/Final Training Images/face2/image_0031_Face_1.jpg\n",
      "/kaggle/input/face-images1/Final Training Images/face2/image_0030_Face_1.jpg\n",
      "/kaggle/input/face-images1/Final Training Images/face2/image_0024_Face_1.jpg\n",
      "/kaggle/input/face-images1/Final Training Images/face2/image_0023_Face_1.jpg\n",
      "/kaggle/input/face-images1/Final Training Images/face2/image_0028_Face_2.jpg\n",
      "/kaggle/input/face-images1/Final Training Images/face2/image_0032_Face_1.jpg\n",
      "/kaggle/input/face-images1/Final Training Images/face2/image_0027_Face_1.jpg\n",
      "/kaggle/input/face-images1/Final Training Images/face2/image_0026_Face_1.jpg\n",
      "/kaggle/input/face-images1/Final Training Images/face2/image_0034_Face_1.jpg\n",
      "/kaggle/input/face-images1/Final Training Images/face2/image_0022_Face_1.jpg\n",
      "/kaggle/input/face-images1/Final Training Images/face2/image_0036_Face_1.jpg\n",
      "/kaggle/input/face-images1/Final Training Images/face2/image_0029_Face_1.jpg\n",
      "/kaggle/input/face-images1/Final Training Images/face2/image_0033_Face_1.jpg\n",
      "/kaggle/input/face-images1/Final Training Images/face2/image_0039_Face_1.jpg\n",
      "/kaggle/input/face-images1/Final Training Images/face5/image_0081_Face_1.jpg\n",
      "/kaggle/input/face-images1/Final Training Images/face5/image_0088_Face_1.jpg\n",
      "/kaggle/input/face-images1/Final Training Images/face5/image_0087_Face_1.jpg\n",
      "/kaggle/input/face-images1/Final Training Images/face5/image_0084_Face_1.jpg\n",
      "/kaggle/input/face-images1/Final Training Images/face5/image_0079_Face_2.jpg\n",
      "/kaggle/input/face-images1/Final Training Images/face5/image_0086_Face_1.jpg\n",
      "/kaggle/input/face-images1/Final Training Images/face5/image_0082_Face_1.jpg\n",
      "/kaggle/input/face-images1/Final Training Images/face5/image_0077_Face_1.jpg\n",
      "/kaggle/input/face-images1/Final Training Images/face5/image_0083_Face_1.jpg\n",
      "/kaggle/input/face-images1/Final Training Images/face5/image_0078_Face_1.jpg\n",
      "/kaggle/input/face-images1/Final Training Images/face5/image_0072_Face_1.jpg\n",
      "/kaggle/input/face-images1/Final Training Images/face5/image_0076_Face_1.jpg\n",
      "/kaggle/input/face-images1/Final Training Images/face5/image_0089_Face_1.jpg\n",
      "/kaggle/input/face-images1/Final Training Images/face5/image_0075_Face_1.jpg\n",
      "/kaggle/input/face-images1/Final Training Images/face5/image_0074_Face_1.jpg\n",
      "/kaggle/input/face-images1/Final Training Images/face5/image_0080_Face_1.jpg\n",
      "/kaggle/input/face-images1/Final Training Images/face3/image_0417_Face_1.jpg\n",
      "/kaggle/input/face-images1/Final Training Images/face3/image_0415_Face_1.jpg\n",
      "/kaggle/input/face-images1/Final Training Images/face3/image_0414_Face_1.jpg\n",
      "/kaggle/input/face-images1/Final Training Images/face3/image_0427_Face_2.jpg\n",
      "/kaggle/input/face-images1/Final Training Images/face3/image_0419_Face_1.jpg\n",
      "/kaggle/input/face-images1/Final Training Images/face3/image_0416_Face_1.jpg\n",
      "/kaggle/input/face-images1/Final Training Images/face3/image_0421_Face_1.jpg\n",
      "/kaggle/input/face-images1/Final Training Images/face3/image_0413_Face_2.jpg\n",
      "/kaggle/input/face-images1/Final Training Images/face3/image_0418_Face_1.jpg\n",
      "/kaggle/input/face-images1/Final Training Images/face3/image_0420_Face_1.jpg\n",
      "/kaggle/input/face-images1/Final Training Images/face3/image_0428_Face_1.jpg\n",
      "/kaggle/input/face-images1/Final Training Images/face3/image_0424_Face_1.jpg\n",
      "/kaggle/input/face-images1/Final Training Images/face3/image_0425_Face_1.jpg\n",
      "/kaggle/input/face-images1/Final Training Images/face3/image_0423_Face_2.jpg\n",
      "/kaggle/input/face-images1/Final Training Images/face7/image_0124_Face_1.jpg\n",
      "/kaggle/input/face-images1/Final Training Images/face7/image_0121_Face_1.jpg\n",
      "/kaggle/input/face-images1/Final Training Images/face7/image_0129_Face_1.jpg\n",
      "/kaggle/input/face-images1/Final Training Images/face7/image_0127_Face_1.jpg\n",
      "/kaggle/input/face-images1/Final Training Images/face7/image_0128_Face_1.jpg\n",
      "/kaggle/input/face-images1/Final Training Images/face7/image_0132_Face_1.jpg\n",
      "/kaggle/input/face-images1/Final Training Images/face7/image_0119_Face_1.jpg\n",
      "/kaggle/input/face-images1/Final Training Images/face7/image_0126_Face_1.jpg\n",
      "/kaggle/input/face-images1/Final Training Images/face7/image_0120_Face_1.jpg\n",
      "/kaggle/input/face-images1/Final Training Images/face7/image_0116_Face_1.jpg\n",
      "/kaggle/input/face-images1/Final Training Images/face7/image_0123_Face_1.jpg\n",
      "/kaggle/input/face-images1/Final Training Images/face7/image_0131_Face_1.jpg\n",
      "/kaggle/input/face-images1/Final Training Images/face7/image_0125_Face_1.jpg\n",
      "/kaggle/input/face-images1/Final Training Images/face7/image_0122_Face_1.jpg\n",
      "/kaggle/input/face-images1/Final Training Images/face13/image_0295_Face_1.jpg\n",
      "/kaggle/input/face-images1/Final Training Images/face13/image_0296_Face_1.jpg\n",
      "/kaggle/input/face-images1/Final Training Images/face13/image_0294_Face_2.jpg\n",
      "/kaggle/input/face-images1/Final Training Images/face13/image_0307_Face_1.jpg\n",
      "/kaggle/input/face-images1/Final Training Images/face13/image_0300_Face_1.jpg\n",
      "/kaggle/input/face-images1/Final Training Images/face13/image_0293_Face_1.jpg\n",
      "/kaggle/input/face-images1/Final Training Images/face13/image_0289_Face_1.jpg\n",
      "/kaggle/input/face-images1/Final Training Images/face13/image_0290_Face_1.jpg\n",
      "/kaggle/input/face-images1/Final Training Images/face13/image_0306_Face_1.jpg\n",
      "/kaggle/input/face-images1/Final Training Images/face13/image_0297_Face_1.jpg\n",
      "/kaggle/input/face-images1/Final Training Images/face13/image_0291_Face_1.jpg\n",
      "/kaggle/input/face-images1/Final Training Images/face13/image_0292_Face_1.jpg\n",
      "/kaggle/input/face-images1/Final Training Images/face13/image_0288_Face_1.jpg\n",
      "/kaggle/input/face-images1/Final Training Images/face11/image_0251_Face_1.jpg\n",
      "/kaggle/input/face-images1/Final Training Images/face11/image_0257_Face_1.jpg\n",
      "/kaggle/input/face-images1/Final Training Images/face11/image_0252_Face_2.jpg\n",
      "/kaggle/input/face-images1/Final Training Images/face11/image_0248_Face_1.jpg\n",
      "/kaggle/input/face-images1/Final Training Images/face11/image_0259_Face_1.jpg\n",
      "/kaggle/input/face-images1/Final Training Images/face11/image_0256_Face_1.jpg\n",
      "/kaggle/input/face-images1/Final Training Images/face11/image_0255_Face_1.jpg\n",
      "/kaggle/input/face-images1/Final Training Images/face11/image_0254_Face_1.jpg\n",
      "/kaggle/input/face-images1/Final Training Images/face11/image_0246_Face_1.jpg\n",
      "/kaggle/input/face-images1/Final Training Images/face11/image_0247_Face_2.jpg\n",
      "/kaggle/input/face-images1/Final Training Images/face11/image_0262_Face_1.jpg\n",
      "/kaggle/input/face-images1/Final Training Images/face11/image_0250_Face_1.jpg\n",
      "/kaggle/input/face-images1/Final Training Images/face11/image_0260_Face_1.jpg\n",
      "/kaggle/input/face-images1/Final Training Images/face11/image_0253_Face_1.jpg\n",
      "/kaggle/input/face-images1/Final Training Images/face11/image_0261_Face_1.jpg\n",
      "/kaggle/input/face-images1/Final Training Images/face11/image_0263_Face_1.jpg\n",
      "/kaggle/input/face-images1/Final Training Images/face1/image_0002_Face_2.jpg\n",
      "/kaggle/input/face-images1/Final Training Images/face1/image_0017_Face_1.jpg\n",
      "/kaggle/input/face-images1/Final Training Images/face1/image_0004_Face_1.jpg\n",
      "/kaggle/input/face-images1/Final Training Images/face1/image_0006_Face_1.jpg\n",
      "/kaggle/input/face-images1/Final Training Images/face1/image_0018_Face_1.jpg\n",
      "/kaggle/input/face-images1/Final Training Images/face1/image_0005_Face_1.jpg\n",
      "/kaggle/input/face-images1/Final Training Images/face1/image_0020_Face_1.jpg\n",
      "/kaggle/input/face-images1/Final Training Images/face1/image_0011_Face_1.jpg\n",
      "/kaggle/input/face-images1/Final Training Images/face1/image_0009_Face_1.jpg\n",
      "/kaggle/input/face-images1/Final Training Images/face1/image_0008_Face_1.jpg\n",
      "/kaggle/input/face-images1/Final Training Images/face1/image_0001_Face_1.jpg\n",
      "/kaggle/input/face-images1/Final Training Images/face1/image_0007_Face_1.jpg\n",
      "/kaggle/input/face-images1/Final Training Images/face1/image_0019_Face_1.jpg\n",
      "/kaggle/input/face-images1/Final Training Images/face1/image_0010_Face_1.jpg\n",
      "/kaggle/input/face-images1/Final Training Images/face1/image_0003_Face_1.jpg\n",
      "/kaggle/input/vgc-16/archive/imagenet_class_index.json\n",
      "/kaggle/input/vgc-16/archive/vgg16_weights_tf_dim_ordering_tf_kernels_notop.h5\n",
      "/kaggle/input/vgc-16/archive/vgg16_weights_tf_dim_ordering_tf_kernels.h5\n"
     ]
    }
   ],
   "source": [
    "# This Python 3 environment comes with many helpful analytics libraries installed\n",
    "# It is defined by the kaggle/python Docker image: https://github.com/kaggle/docker-python\n",
    "# For example, here's several helpful packages to load\n",
    "\n",
    "import numpy as np # linear algebra\n",
    "import pandas as pd # data processing, CSV file I/O (e.g. pd.read_csv)\n",
    "\n",
    "# Input data files are available in the read-only \"../input/\" directory\n",
    "# For example, running this (by clicking run or pressing Shift+Enter) will list all files under the input directory\n",
    "\n",
    "import os\n",
    "for dirname, _, filenames in os.walk('/kaggle/input'):\n",
    "    for filename in filenames:\n",
    "        print(os.path.join(dirname, filename))\n",
    "\n",
    "# You can write up to 20GB to the current directory (/kaggle/working/) that gets preserved as output when you create a version using \"Save & Run All\" \n",
    "# You can also write temporary files to /kaggle/temp/, but they won't be saved outside of the current session"
   ]
  },
  {
   "cell_type": "code",
   "execution_count": 2,
   "id": "3f42d9de",
   "metadata": {
    "execution": {
     "iopub.execute_input": "2024-06-03T19:27:35.248055Z",
     "iopub.status.busy": "2024-06-03T19:27:35.247147Z",
     "iopub.status.idle": "2024-06-03T19:27:47.014439Z",
     "shell.execute_reply": "2024-06-03T19:27:47.013493Z"
    },
    "papermill": {
     "duration": 11.77362,
     "end_time": "2024-06-03T19:27:47.016486",
     "exception": false,
     "start_time": "2024-06-03T19:27:35.242866",
     "status": "completed"
    },
    "tags": []
   },
   "outputs": [
    {
     "name": "stderr",
     "output_type": "stream",
     "text": [
      "2024-06-03 19:27:37.140393: E external/local_xla/xla/stream_executor/cuda/cuda_dnn.cc:9261] Unable to register cuDNN factory: Attempting to register factory for plugin cuDNN when one has already been registered\n",
      "2024-06-03 19:27:37.140563: E external/local_xla/xla/stream_executor/cuda/cuda_fft.cc:607] Unable to register cuFFT factory: Attempting to register factory for plugin cuFFT when one has already been registered\n",
      "2024-06-03 19:27:37.279349: E external/local_xla/xla/stream_executor/cuda/cuda_blas.cc:1515] Unable to register cuBLAS factory: Attempting to register factory for plugin cuBLAS when one has already been registered\n"
     ]
    },
    {
     "name": "stdout",
     "output_type": "stream",
     "text": [
      "Found 244 images belonging to 16 classes.\n",
      "Found 244 images belonging to 16 classes.\n"
     ]
    },
    {
     "data": {
      "text/plain": [
       "{'face1': 0,\n",
       " 'face10': 1,\n",
       " 'face11': 2,\n",
       " 'face12': 3,\n",
       " 'face13': 4,\n",
       " 'face14': 5,\n",
       " 'face15': 6,\n",
       " 'face16': 7,\n",
       " 'face2': 8,\n",
       " 'face3': 9,\n",
       " 'face4': 10,\n",
       " 'face5': 11,\n",
       " 'face6': 12,\n",
       " 'face7': 13,\n",
       " 'face8': 14,\n",
       " 'face9': 15}"
      ]
     },
     "execution_count": 2,
     "metadata": {},
     "output_type": "execute_result"
    }
   ],
   "source": [
    "TrainingImagePath='/kaggle/input/face-images1/Final Training Images'\n",
    "\n",
    "import tensorflow as tf\n",
    "from tensorflow.keras.preprocessing.image import ImageDataGenerator\n",
    "from tensorflow.keras.models import Sequential\n",
    "from tensorflow.keras.layers import Conv2D, MaxPooling2D, Flatten, Dense, Dropout\n",
    "import matplotlib.pyplot as plt\n",
    "\n",
    "train_datagen = ImageDataGenerator(\n",
    "    shear_range=0.1,\n",
    "    zoom_range=0.1,\n",
    "    horizontal_flip=True,\n",
    "   \n",
    ")\n",
    " \n",
    "test_datagen = ImageDataGenerator()\n",
    "\n",
    "training_set = train_datagen.flow_from_directory(\n",
    "        TrainingImagePath,\n",
    "        target_size=(64, 64),\n",
    "        batch_size=32,\n",
    "        class_mode='categorical')\n",
    " \n",
    "test_set = test_datagen.flow_from_directory(\n",
    "        TrainingImagePath,\n",
    "        target_size=(64, 64),\n",
    "        batch_size=32,\n",
    "        class_mode='categorical')\n",
    "\n",
    "test_set.class_indices"
   ]
  },
  {
   "cell_type": "code",
   "execution_count": 3,
   "id": "8948f835",
   "metadata": {
    "execution": {
     "iopub.execute_input": "2024-06-03T19:27:47.025232Z",
     "iopub.status.busy": "2024-06-03T19:27:47.024711Z",
     "iopub.status.idle": "2024-06-03T19:27:47.031806Z",
     "shell.execute_reply": "2024-06-03T19:27:47.030595Z"
    },
    "papermill": {
     "duration": 0.0135,
     "end_time": "2024-06-03T19:27:47.033730",
     "exception": false,
     "start_time": "2024-06-03T19:27:47.020230",
     "status": "completed"
    },
    "tags": []
   },
   "outputs": [
    {
     "name": "stdout",
     "output_type": "stream",
     "text": [
      "Mapping of Face and its ID {0: 'face1', 1: 'face10', 2: 'face11', 3: 'face12', 4: 'face13', 5: 'face14', 6: 'face15', 7: 'face16', 8: 'face2', 9: 'face3', 10: 'face4', 11: 'face5', 12: 'face6', 13: 'face7', 14: 'face8', 15: 'face9'}\n",
      "\n",
      " The Number of output neurons:  16\n"
     ]
    }
   ],
   "source": [
    "\n",
    "TrainClasses=training_set.class_indices\n",
    "\n",
    "ResultMap={}\n",
    "for faceValue,faceName in zip(TrainClasses.values(),TrainClasses.keys()):\n",
    "    ResultMap[faceValue]=faceName\n",
    "\n",
    "import pickle\n",
    "with open(\"ResultsMap.pkl\", 'wb') as fileWriteStream:\n",
    "    pickle.dump(ResultMap, fileWriteStream)\n",
    " \n",
    "print(\"Mapping of Face and its ID\",ResultMap)\n",
    "\n",
    "OutputNeurons=len(ResultMap)\n",
    "print('\\n The Number of output neurons: ', OutputNeurons)"
   ]
  },
  {
   "cell_type": "code",
   "execution_count": 4,
   "id": "a7eda97b",
   "metadata": {
    "execution": {
     "iopub.execute_input": "2024-06-03T19:27:47.042728Z",
     "iopub.status.busy": "2024-06-03T19:27:47.042126Z",
     "iopub.status.idle": "2024-06-03T19:28:13.712235Z",
     "shell.execute_reply": "2024-06-03T19:28:13.711108Z"
    },
    "papermill": {
     "duration": 26.677105,
     "end_time": "2024-06-03T19:28:13.714392",
     "exception": false,
     "start_time": "2024-06-03T19:27:47.037287",
     "status": "completed"
    },
    "tags": []
   },
   "outputs": [
    {
     "name": "stderr",
     "output_type": "stream",
     "text": [
      "/opt/conda/lib/python3.10/site-packages/keras/src/layers/convolutional/base_conv.py:99: UserWarning: Do not pass an `input_shape`/`input_dim` argument to a layer. When using Sequential models, prefer using an `Input(shape)` object as the first layer in the model instead.\n",
      "  super().__init__(\n"
     ]
    },
    {
     "name": "stdout",
     "output_type": "stream",
     "text": [
      "Epoch 1/10\n"
     ]
    },
    {
     "name": "stderr",
     "output_type": "stream",
     "text": [
      "/opt/conda/lib/python3.10/site-packages/keras/src/trainers/data_adapters/py_dataset_adapter.py:120: UserWarning: Your `PyDataset` class should call `super().__init__(**kwargs)` in its constructor. `**kwargs` can include `workers`, `use_multiprocessing`, `max_queue_size`. Do not pass these arguments to `fit()`, as they will be ignored.\n",
      "  self._warn_if_super_not_called()\n"
     ]
    },
    {
     "name": "stdout",
     "output_type": "stream",
     "text": [
      "\u001b[1m 8/30\u001b[0m \u001b[32m━━━━━\u001b[0m\u001b[37m━━━━━━━━━━━━━━━\u001b[0m \u001b[1m2s\u001b[0m 127ms/step - accuracy: 0.0735 - loss: 164.7020"
     ]
    },
    {
     "name": "stderr",
     "output_type": "stream",
     "text": [
      "/opt/conda/lib/python3.10/contextlib.py:153: UserWarning: Your input ran out of data; interrupting training. Make sure that your dataset or generator can generate at least `steps_per_epoch * epochs` batches. You may need to use the `.repeat()` function when building your dataset.\n",
      "  self.gen.throw(typ, value, traceback)\n"
     ]
    },
    {
     "name": "stdout",
     "output_type": "stream",
     "text": [
      "\u001b[1m30/30\u001b[0m \u001b[32m━━━━━━━━━━━━━━━━━━━━\u001b[0m\u001b[37m\u001b[0m \u001b[1m5s\u001b[0m 71ms/step - accuracy: 0.0827 - loss: 141.8062 - val_accuracy: 0.0697 - val_loss: 5.5950\n",
      "Epoch 2/10\n",
      "\u001b[1m30/30\u001b[0m \u001b[32m━━━━━━━━━━━━━━━━━━━━\u001b[0m\u001b[37m\u001b[0m \u001b[1m2s\u001b[0m 49ms/step - accuracy: 0.0911 - loss: 3.3375 - val_accuracy: 0.0861 - val_loss: 2.7544\n",
      "Epoch 3/10\n",
      "\u001b[1m30/30\u001b[0m \u001b[32m━━━━━━━━━━━━━━━━━━━━\u001b[0m\u001b[37m\u001b[0m \u001b[1m2s\u001b[0m 49ms/step - accuracy: 0.0963 - loss: 2.8348 - val_accuracy: 0.1311 - val_loss: 2.6673\n",
      "Epoch 4/10\n",
      "\u001b[1m30/30\u001b[0m \u001b[32m━━━━━━━━━━━━━━━━━━━━\u001b[0m\u001b[37m\u001b[0m \u001b[1m2s\u001b[0m 48ms/step - accuracy: 0.1639 - loss: 2.7198 - val_accuracy: 0.1803 - val_loss: 2.6955\n",
      "Epoch 5/10\n",
      "\u001b[1m30/30\u001b[0m \u001b[32m━━━━━━━━━━━━━━━━━━━━\u001b[0m\u001b[37m\u001b[0m \u001b[1m2s\u001b[0m 49ms/step - accuracy: 0.1755 - loss: 2.6450 - val_accuracy: 0.2828 - val_loss: 2.3977\n",
      "Epoch 6/10\n",
      "\u001b[1m30/30\u001b[0m \u001b[32m━━━━━━━━━━━━━━━━━━━━\u001b[0m\u001b[37m\u001b[0m \u001b[1m2s\u001b[0m 48ms/step - accuracy: 0.2943 - loss: 2.4115 - val_accuracy: 0.5123 - val_loss: 1.6551\n",
      "Epoch 7/10\n",
      "\u001b[1m30/30\u001b[0m \u001b[32m━━━━━━━━━━━━━━━━━━━━\u001b[0m\u001b[37m\u001b[0m \u001b[1m3s\u001b[0m 74ms/step - accuracy: 0.5057 - loss: 1.6291 - val_accuracy: 0.6639 - val_loss: 1.1786\n",
      "Epoch 8/10\n",
      "\u001b[1m30/30\u001b[0m \u001b[32m━━━━━━━━━━━━━━━━━━━━\u001b[0m\u001b[37m\u001b[0m \u001b[1m2s\u001b[0m 48ms/step - accuracy: 0.5878 - loss: 1.2808 - val_accuracy: 0.6393 - val_loss: 1.2888\n",
      "Epoch 9/10\n",
      "\u001b[1m30/30\u001b[0m \u001b[32m━━━━━━━━━━━━━━━━━━━━\u001b[0m\u001b[37m\u001b[0m \u001b[1m2s\u001b[0m 49ms/step - accuracy: 0.6033 - loss: 1.3597 - val_accuracy: 0.7500 - val_loss: 0.9575\n",
      "Epoch 10/10\n",
      "\u001b[1m30/30\u001b[0m \u001b[32m━━━━━━━━━━━━━━━━━━━━\u001b[0m\u001b[37m\u001b[0m \u001b[1m2s\u001b[0m 49ms/step - accuracy: 0.7407 - loss: 0.9351 - val_accuracy: 0.8197 - val_loss: 0.7084\n",
      "Total Time Taken:  0 Minutes\n"
     ]
    }
   ],
   "source": [
    "\n",
    "from keras.models import Sequential\n",
    "from keras.layers import Convolution2D\n",
    "from keras.layers import MaxPool2D\n",
    "from keras.layers import Flatten\n",
    "from keras.layers import Dense\n",
    "from keras.layers import Input \n",
    "\n",
    "classifier= Sequential()\n",
    "\n",
    "classifier.add(Convolution2D(32, kernel_size=(5, 5), strides=(1, 1), input_shape=(64,64,3), activation='relu'))\n",
    "\n",
    "classifier.add(MaxPool2D(pool_size=(2,2)))\n",
    "\n",
    "classifier.add(Convolution2D(64, kernel_size=(5, 5), strides=(1, 1), activation='relu'))\n",
    " \n",
    "classifier.add(MaxPool2D(pool_size=(2,2)))\n",
    "\n",
    "classifier.add(Flatten())\n",
    "\n",
    "classifier.add(Dense(64, activation='relu'))\n",
    " \n",
    "classifier.add(Dense(OutputNeurons, activation='softmax'))\n",
    "\n",
    "classifier.compile(loss='categorical_crossentropy', optimizer = 'adam', metrics=[\"accuracy\"])\n",
    "\n",
    "import time\n",
    "StartTime=time.time()\n",
    "\n",
    "classifier.fit(\n",
    "                    training_set,\n",
    "                    steps_per_epoch=30,\n",
    "                    epochs=10,\n",
    "                    validation_data=test_set,\n",
    "                    validation_steps=10)\n",
    " \n",
    "EndTime=time.time()\n",
    "print(\"Total Time Taken: \", round((EndTime-StartTime)/60), 'Minutes')"
   ]
  },
  {
   "cell_type": "code",
   "execution_count": 5,
   "id": "a9a0f26a",
   "metadata": {
    "execution": {
     "iopub.execute_input": "2024-06-03T19:28:13.737044Z",
     "iopub.status.busy": "2024-06-03T19:28:13.736347Z",
     "iopub.status.idle": "2024-06-03T19:28:13.866505Z",
     "shell.execute_reply": "2024-06-03T19:28:13.865421Z"
    },
    "papermill": {
     "duration": 0.14369,
     "end_time": "2024-06-03T19:28:13.868678",
     "exception": false,
     "start_time": "2024-06-03T19:28:13.724988",
     "status": "completed"
    },
    "tags": []
   },
   "outputs": [
    {
     "name": "stdout",
     "output_type": "stream",
     "text": [
      "Prediction is:  face13\n"
     ]
    }
   ],
   "source": [
    "import numpy as np\n",
    "from keras.preprocessing import image\n",
    " \n",
    "ImagePath='/kaggle/input/face-images1/Final Training Images/face13/image_0288_Face_1.jpg'\n",
    "test_image=image.load_img(ImagePath,target_size=(64, 64))\n",
    "test_image=image.img_to_array(test_image)\n",
    " \n",
    "test_image=np.expand_dims(test_image,axis=0)\n",
    " \n",
    "result=classifier.predict(test_image,verbose=0)\n",
    "\n",
    "print('Prediction is: ',ResultMap[np.argmax(result)])"
   ]
  },
  {
   "cell_type": "code",
   "execution_count": 6,
   "id": "7488acb7",
   "metadata": {
    "execution": {
     "iopub.execute_input": "2024-06-03T19:28:13.891578Z",
     "iopub.status.busy": "2024-06-03T19:28:13.890916Z",
     "iopub.status.idle": "2024-06-03T19:28:16.673592Z",
     "shell.execute_reply": "2024-06-03T19:28:16.672321Z"
    },
    "papermill": {
     "duration": 2.796319,
     "end_time": "2024-06-03T19:28:16.675725",
     "exception": false,
     "start_time": "2024-06-03T19:28:13.879406",
     "status": "completed"
    },
    "tags": []
   },
   "outputs": [
    {
     "name": "stdout",
     "output_type": "stream",
     "text": [
      "\u001b[1m8/8\u001b[0m \u001b[32m━━━━━━━━━━━━━━━━━━━━\u001b[0m\u001b[37m\u001b[0m \u001b[1m1s\u001b[0m 82ms/step\n"
     ]
    },
    {
     "data": {
      "image/png": "[encoded data removed]",
      "text/plain": [
       "<Figure size 1000x800 with 2 Axes>"
      ]
     },
     "metadata": {},
     "output_type": "display_data"
    },
    {
     "name": "stdout",
     "output_type": "stream",
     "text": [
      "              precision    recall  f1-score   support\n",
      "\n",
      "       face1       0.12      0.07      0.09        15\n",
      "      face10       0.04      0.05      0.05        20\n",
      "      face11       0.00      0.00      0.00        16\n",
      "      face12       0.18      0.14      0.16        14\n",
      "      face13       0.13      0.15      0.14        13\n",
      "      face14       0.10      0.08      0.09        12\n",
      "      face15       0.08      0.13      0.10        15\n",
      "      face16       0.12      0.12      0.12        17\n",
      "       face2       0.15      0.13      0.14        15\n",
      "       face3       0.00      0.00      0.00        14\n",
      "       face4       0.07      0.06      0.06        17\n",
      "       face5       0.06      0.06      0.06        16\n",
      "       face6       0.06      0.06      0.06        16\n",
      "       face7       0.11      0.14      0.12        14\n",
      "       face8       0.06      0.07      0.07        14\n",
      "       face9       0.06      0.06      0.06        16\n",
      "\n",
      "    accuracy                           0.08       244\n",
      "   macro avg       0.08      0.08      0.08       244\n",
      "weighted avg       0.08      0.08      0.08       244\n",
      "\n"
     ]
    }
   ],
   "source": [
    "from sklearn.metrics import confusion_matrix\n",
    "import seaborn as sns\n",
    "from sklearn.metrics import classification_report\n",
    "\n",
    "Y_pred = classifier.predict(test_set)\n",
    "y_pred = np.argmax(Y_pred, axis=1)\n",
    "true_labels = test_set.classes\n",
    "\n",
    "cm = confusion_matrix(true_labels, y_pred)\n",
    "plt.figure(figsize=(10, 8))\n",
    "sns.heatmap(cm, annot=True, fmt='d', cmap='Blues', xticklabels=list(ResultMap.values()), yticklabels=list(ResultMap.values()))\n",
    "plt.xlabel('Predicted')\n",
    "plt.ylabel('True')\n",
    "plt.title('Confusion Matrix')\n",
    "plt.show()\n",
    "\n",
    "print(classification_report(true_labels, y_pred, target_names=list(ResultMap.values())))"
   ]
  },
  {
   "cell_type": "code",
   "execution_count": 7,
   "id": "ffe08707",
   "metadata": {
    "execution": {
     "iopub.execute_input": "2024-06-03T19:28:16.702101Z",
     "iopub.status.busy": "2024-06-03T19:28:16.701751Z",
     "iopub.status.idle": "2024-06-03T19:33:50.176789Z",
     "shell.execute_reply": "2024-06-03T19:33:50.175712Z"
    },
    "papermill": {
     "duration": 333.491445,
     "end_time": "2024-06-03T19:33:50.179401",
     "exception": false,
     "start_time": "2024-06-03T19:28:16.687956",
     "status": "completed"
    },
    "tags": []
   },
   "outputs": [
    {
     "data": {
      "text/html": [
       "<pre style=\"white-space:pre;overflow-x:auto;line-height:normal;font-family:Menlo,'DejaVu Sans Mono',consolas,'Courier New',monospace\"><span style=\"font-weight: bold\">Model: \"sequential_1\"</span>\n",
       "</pre>\n"
      ],
      "text/plain": [
       "\u001b[1mModel: \"sequential_1\"\u001b[0m\n"
      ]
     },
     "metadata": {},
     "output_type": "display_data"
    },
    {
     "data": {
      "text/html": [
       "<pre style=\"white-space:pre;overflow-x:auto;line-height:normal;font-family:Menlo,'DejaVu Sans Mono',consolas,'Courier New',monospace\">┏━━━━━━━━━━━━━━━━━━━━━━━━━━━━━━━━━┳━━━━━━━━━━━━━━━━━━━━━━━━┳━━━━━━━━━━━━━━━┓\n",
       "┃<span style=\"font-weight: bold\"> Layer (type)                    </span>┃<span style=\"font-weight: bold\"> Output Shape           </span>┃<span style=\"font-weight: bold\">       Param # </span>┃\n",
       "┡━━━━━━━━━━━━━━━━━━━━━━━━━━━━━━━━━╇━━━━━━━━━━━━━━━━━━━━━━━━╇━━━━━━━━━━━━━━━┩\n",
       "│ vgg16 (<span style=\"color: #0087ff; text-decoration-color: #0087ff\">Functional</span>)              │ ?                      │    <span style=\"color: #00af00; text-decoration-color: #00af00\">14,714,688</span> │\n",
       "├─────────────────────────────────┼────────────────────────┼───────────────┤\n",
       "│ flatten_1 (<span style=\"color: #0087ff; text-decoration-color: #0087ff\">Flatten</span>)             │ ?                      │   <span style=\"color: #00af00; text-decoration-color: #00af00\">0</span> (unbuilt) │\n",
       "├─────────────────────────────────┼────────────────────────┼───────────────┤\n",
       "│ dense_2 (<span style=\"color: #0087ff; text-decoration-color: #0087ff\">Dense</span>)                 │ ?                      │   <span style=\"color: #00af00; text-decoration-color: #00af00\">0</span> (unbuilt) │\n",
       "├─────────────────────────────────┼────────────────────────┼───────────────┤\n",
       "│ dropout (<span style=\"color: #0087ff; text-decoration-color: #0087ff\">Dropout</span>)               │ ?                      │             <span style=\"color: #00af00; text-decoration-color: #00af00\">0</span> │\n",
       "├─────────────────────────────────┼────────────────────────┼───────────────┤\n",
       "│ dense_3 (<span style=\"color: #0087ff; text-decoration-color: #0087ff\">Dense</span>)                 │ ?                      │   <span style=\"color: #00af00; text-decoration-color: #00af00\">0</span> (unbuilt) │\n",
       "└─────────────────────────────────┴────────────────────────┴───────────────┘\n",
       "</pre>\n"
      ],
      "text/plain": [
       "┏━━━━━━━━━━━━━━━━━━━━━━━━━━━━━━━━━┳━━━━━━━━━━━━━━━━━━━━━━━━┳━━━━━━━━━━━━━━━┓\n",
       "┃\u001b[1m \u001b[0m\u001b[1mLayer (type)                   \u001b[0m\u001b[1m \u001b[0m┃\u001b[1m \u001b[0m\u001b[1mOutput Shape          \u001b[0m\u001b[1m \u001b[0m┃\u001b[1m \u001b[0m\u001b[1m      Param #\u001b[0m\u001b[1m \u001b[0m┃\n",
       "┡━━━━━━━━━━━━━━━━━━━━━━━━━━━━━━━━━╇━━━━━━━━━━━━━━━━━━━━━━━━╇━━━━━━━━━━━━━━━┩\n",
       "│ vgg16 (\u001b[38;5;33mFunctional\u001b[0m)              │ ?                      │    \u001b[38;5;34m14,714,688\u001b[0m │\n",
       "├─────────────────────────────────┼────────────────────────┼───────────────┤\n",
       "│ flatten_1 (\u001b[38;5;33mFlatten\u001b[0m)             │ ?                      │   \u001b[38;5;34m0\u001b[0m (unbuilt) │\n",
       "├─────────────────────────────────┼────────────────────────┼───────────────┤\n",
       "│ dense_2 (\u001b[38;5;33mDense\u001b[0m)                 │ ?                      │   \u001b[38;5;34m0\u001b[0m (unbuilt) │\n",
       "├─────────────────────────────────┼────────────────────────┼───────────────┤\n",
       "│ dropout (\u001b[38;5;33mDropout\u001b[0m)               │ ?                      │             \u001b[38;5;34m0\u001b[0m │\n",
       "├─────────────────────────────────┼────────────────────────┼───────────────┤\n",
       "│ dense_3 (\u001b[38;5;33mDense\u001b[0m)                 │ ?                      │   \u001b[38;5;34m0\u001b[0m (unbuilt) │\n",
       "└─────────────────────────────────┴────────────────────────┴───────────────┘\n"
      ]
     },
     "metadata": {},
     "output_type": "display_data"
    },
    {
     "data": {
      "text/html": [
       "<pre style=\"white-space:pre;overflow-x:auto;line-height:normal;font-family:Menlo,'DejaVu Sans Mono',consolas,'Courier New',monospace\"><span style=\"font-weight: bold\"> Total params: </span><span style=\"color: #00af00; text-decoration-color: #00af00\">14,714,688</span> (56.13 MB)\n",
       "</pre>\n"
      ],
      "text/plain": [
       "\u001b[1m Total params: \u001b[0m\u001b[38;5;34m14,714,688\u001b[0m (56.13 MB)\n"
      ]
     },
     "metadata": {},
     "output_type": "display_data"
    },
    {
     "data": {
      "text/html": [
       "<pre style=\"white-space:pre;overflow-x:auto;line-height:normal;font-family:Menlo,'DejaVu Sans Mono',consolas,'Courier New',monospace\"><span style=\"font-weight: bold\"> Trainable params: </span><span style=\"color: #00af00; text-decoration-color: #00af00\">0</span> (0.00 B)\n",
       "</pre>\n"
      ],
      "text/plain": [
       "\u001b[1m Trainable params: \u001b[0m\u001b[38;5;34m0\u001b[0m (0.00 B)\n"
      ]
     },
     "metadata": {},
     "output_type": "display_data"
    },
    {
     "data": {
      "text/html": [
       "<pre style=\"white-space:pre;overflow-x:auto;line-height:normal;font-family:Menlo,'DejaVu Sans Mono',consolas,'Courier New',monospace\"><span style=\"font-weight: bold\"> Non-trainable params: </span><span style=\"color: #00af00; text-decoration-color: #00af00\">14,714,688</span> (56.13 MB)\n",
       "</pre>\n"
      ],
      "text/plain": [
       "\u001b[1m Non-trainable params: \u001b[0m\u001b[38;5;34m14,714,688\u001b[0m (56.13 MB)\n"
      ]
     },
     "metadata": {},
     "output_type": "display_data"
    },
    {
     "name": "stdout",
     "output_type": "stream",
     "text": [
      "Found 244 images belonging to 16 classes.\n",
      "Epoch 1/10\n"
     ]
    },
    {
     "name": "stderr",
     "output_type": "stream",
     "text": [
      "/opt/conda/lib/python3.10/site-packages/keras/src/trainers/data_adapters/py_dataset_adapter.py:120: UserWarning: Your `PyDataset` class should call `super().__init__(**kwargs)` in its constructor. `**kwargs` can include `workers`, `use_multiprocessing`, `max_queue_size`. Do not pass these arguments to `fit()`, as they will be ignored.\n",
      "  self._warn_if_super_not_called()\n"
     ]
    },
    {
     "name": "stdout",
     "output_type": "stream",
     "text": [
      "\u001b[1m7/7\u001b[0m \u001b[32m━━━━━━━━━━━━━━━━━━━━\u001b[0m\u001b[37m\u001b[0m \u001b[1m56s\u001b[0m 7s/step - accuracy: 0.0810 - loss: -307.5576\n",
      "Epoch 2/10\n",
      "\u001b[1m7/7\u001b[0m \u001b[32m━━━━━━━━━━━━━━━━━━━━\u001b[0m\u001b[37m\u001b[0m \u001b[1m8s\u001b[0m 1ms/step - accuracy: 0.0938 - loss: -1647.7965\n",
      "Epoch 3/10\n"
     ]
    },
    {
     "name": "stderr",
     "output_type": "stream",
     "text": [
      "/opt/conda/lib/python3.10/contextlib.py:153: UserWarning: Your input ran out of data; interrupting training. Make sure that your dataset or generator can generate at least `steps_per_epoch * epochs` batches. You may need to use the `.repeat()` function when building your dataset.\n",
      "  self.gen.throw(typ, value, traceback)\n"
     ]
    },
    {
     "name": "stdout",
     "output_type": "stream",
     "text": [
      "\u001b[1m7/7\u001b[0m \u001b[32m━━━━━━━━━━━━━━━━━━━━\u001b[0m\u001b[37m\u001b[0m \u001b[1m54s\u001b[0m 7s/step - accuracy: 0.0952 - loss: -2066.3711\n",
      "Epoch 4/10\n",
      "\u001b[1m7/7\u001b[0m \u001b[32m━━━━━━━━━━━━━━━━━━━━\u001b[0m\u001b[37m\u001b[0m \u001b[1m8s\u001b[0m 1ms/step - accuracy: 0.0625 - loss: -3304.3848\n",
      "Epoch 5/10\n",
      "\u001b[1m7/7\u001b[0m \u001b[32m━━━━━━━━━━━━━━━━━━━━\u001b[0m\u001b[37m\u001b[0m \u001b[1m54s\u001b[0m 7s/step - accuracy: 0.0874 - loss: -4295.7070\n",
      "Epoch 6/10\n",
      "\u001b[1m7/7\u001b[0m \u001b[32m━━━━━━━━━━━━━━━━━━━━\u001b[0m\u001b[37m\u001b[0m \u001b[1m8s\u001b[0m 962us/step - accuracy: 0.0625 - loss: -6271.2334\n",
      "Epoch 7/10\n",
      "\u001b[1m7/7\u001b[0m \u001b[32m━━━━━━━━━━━━━━━━━━━━\u001b[0m\u001b[37m\u001b[0m \u001b[1m54s\u001b[0m 7s/step - accuracy: 0.0767 - loss: -6720.4497\n",
      "Epoch 8/10\n",
      "\u001b[1m7/7\u001b[0m \u001b[32m━━━━━━━━━━━━━━━━━━━━\u001b[0m\u001b[37m\u001b[0m \u001b[1m8s\u001b[0m 981us/step - accuracy: 0.0938 - loss: -8928.8652\n",
      "Epoch 9/10\n",
      "\u001b[1m7/7\u001b[0m \u001b[32m━━━━━━━━━━━━━━━━━━━━\u001b[0m\u001b[37m\u001b[0m \u001b[1m54s\u001b[0m 7s/step - accuracy: 0.0686 - loss: -10529.4961\n",
      "Epoch 10/10\n",
      "\u001b[1m7/7\u001b[0m \u001b[32m━━━━━━━━━━━━━━━━━━━━\u001b[0m\u001b[37m\u001b[0m \u001b[1m8s\u001b[0m 1ms/step - accuracy: 0.1250 - loss: -12220.8213\n"
     ]
    }
   ],
   "source": [
    "\n",
    "from keras.applications.vgg16 import VGG16\n",
    "weights_path = '/kaggle/input/vgc-16/archive/vgg16_weights_tf_dim_ordering_tf_kernels_notop.h5'\n",
    "\n",
    "base_model = VGG16(weights=weights_path, include_top=False, input_shape=(224, 224, 3))\n",
    "\n",
    "for layer in base_model.layers:\n",
    "    layer.trainable = False\n",
    "\n",
    "model = Sequential([\n",
    "    base_model,\n",
    "    Flatten(),\n",
    "    Dense(256, activation='relu'),\n",
    "    Dropout(0.5),\n",
    "    Dense(1, activation='sigmoid')\n",
    "])\n",
    "\n",
    "model.compile(optimizer='adam',\n",
    "              loss='binary_crossentropy',\n",
    "              metrics=['accuracy'])\n",
    "\n",
    "model.summary()\n",
    "\n",
    "from tensorflow.keras.preprocessing.image import ImageDataGenerator\n",
    "\n",
    "img_height, img_width = 224, 224\n",
    "batch_size = 32\n",
    "\n",
    "datagen = ImageDataGenerator(\n",
    "    rescale=1./255,\n",
    "    shear_range=0.2,\n",
    "    zoom_range=0.2,\n",
    "    horizontal_flip=True\n",
    ")\n",
    "\n",
    "train_generator = datagen.flow_from_directory(\n",
    "    TrainingImagePath,\n",
    "    target_size=(img_height, img_width),\n",
    "    batch_size=batch_size,\n",
    "    class_mode='binary'\n",
    ")\n",
    "\n",
    "test_image = image.load_img(ImagePath, target_size=(img_height, img_width))\n",
    "test_image_array = image.img_to_array(test_image)\n",
    "test_image_array = np.expand_dims(test_image_array, axis=0)\n",
    "test_image_array = test_image_array / 255.0 \n",
    "\n",
    "history = model.fit(\n",
    "    train_generator,\n",
    "    steps_per_epoch=train_generator.samples // batch_size,\n",
    "    epochs=10\n",
    ")\n",
    "\n",
    "\n"
   ]
  },
  {
   "cell_type": "code",
   "execution_count": 8,
   "id": "ba3ea3ac",
   "metadata": {
    "execution": {
     "iopub.execute_input": "2024-06-03T19:33:50.215348Z",
     "iopub.status.busy": "2024-06-03T19:33:50.214726Z",
     "iopub.status.idle": "2024-06-03T19:34:51.774677Z",
     "shell.execute_reply": "2024-06-03T19:34:51.773706Z"
    },
    "papermill": {
     "duration": 61.596812,
     "end_time": "2024-06-03T19:34:51.793304",
     "exception": false,
     "start_time": "2024-06-03T19:33:50.196492",
     "status": "completed"
    },
    "tags": []
   },
   "outputs": [
    {
     "name": "stdout",
     "output_type": "stream",
     "text": [
      "\u001b[1m1/1\u001b[0m \u001b[32m━━━━━━━━━━━━━━━━━━━━\u001b[0m\u001b[37m\u001b[0m \u001b[1m0s\u001b[0m 401ms/step\n",
      "Found 244 images belonging to 16 classes.\n",
      "8/8 - 60s - 8s/step - accuracy: 0.0820 - loss: -1.3306e+04\n",
      "\n",
      "Test accuracy: 0.08196721225976944\n"
     ]
    }
   ],
   "source": [
    "test_prediction = model.predict(test_image_array)\n",
    "test_class_index = np.argmax(test_prediction)\n",
    "\n",
    "test_set = datagen.flow_from_directory(\n",
    "    TrainingImagePath,\n",
    "    target_size=(img_height, img_width),\n",
    "    batch_size=batch_size,\n",
    "    class_mode='binary'\n",
    ")\n",
    "test_loss, test_acc = model.evaluate(test_set, verbose=2)\n",
    "print('\\nTest accuracy:', test_acc)"
   ]
  }
 ],
 "metadata": {
  "kaggle": {
   "accelerator": "none",
   "dataSources": [
    {
     "datasetId": 5087352,
     "sourceId": 8520467,
     "sourceType": "datasetVersion"
    },
    {
     "datasetId": 5143144,
     "sourceId": 8596984,
     "sourceType": "datasetVersion"
    }
   ],
   "dockerImageVersionId": 30698,
   "isGpuEnabled": false,
   "isInternetEnabled": false,
   "language": "python",
   "sourceType": "notebook"
  },
  "kernelspec": {
   "display_name": "Python 3",
   "language": "python",
   "name": "python3"
  },
  "language_info": {
   "codemirror_mode": {
    "name": "ipython",
    "version": 3
   },
   "file_extension": ".py",
   "mimetype": "text/x-python",
   "name": "python",
   "nbconvert_exporter": "python",
   "pygments_lexer": "ipython3",
   "version": "3.10.13"
  },
  "papermill": {
   "default_parameters": {},
   "duration": 441.620327,
   "end_time": "2024-06-03T19:34:53.434218",
   "environment_variables": {},
   "exception": null,
   "input_path": "__notebook__.ipynb",
   "output_path": "__notebook__.ipynb",
   "parameters": {},
   "start_time": "2024-06-03T19:27:31.813891",
   "version": "2.5.0"
  }
 },
 "nbformat": 4,
 "nbformat_minor": 5
}
